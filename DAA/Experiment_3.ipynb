{
 "cells": [
  {
   "cell_type": "markdown",
   "id": "5da4439a",
   "metadata": {},
   "source": [
    "Name:-Tanuja Maruti Waware\n",
    "B.E. Division:- C\n",
    "Batch:- C3\n",
    "Roll No.:- 14366"
   ]
  },
  {
   "cell_type": "markdown",
   "id": "22f48d83",
   "metadata": {},
   "source": [
    "# Experiment No.:-3"
   ]
  },
  {
   "cell_type": "markdown",
   "id": "b0edfb10",
   "metadata": {},
   "source": [
    "# Write a program to solve a fractional Knapsack problem using a greedy method.\n"
   ]
  },
  {
   "cell_type": "markdown",
   "id": "1c282f68",
   "metadata": {},
   "source": [
    "Source Code:-"
   ]
  },
  {
   "cell_type": "code",
   "execution_count": 1,
   "id": "6223744f",
   "metadata": {},
   "outputs": [
    {
     "name": "stdout",
     "output_type": "stream",
     "text": [
      "Enter number of items-\n",
      "5\n",
      "Enter profit of item 1-\n",
      "30\n",
      "Enter weight of item 1-\n",
      "5\n",
      "Enter profit of item 2-\n",
      "40\n",
      "Enter weight of item 2-\n",
      "10\n",
      "Enter profit of item 3-\n",
      "45\n",
      "Enter weight of item 3-\n",
      "15\n",
      "Enter profit of item 4-\n",
      "77\n",
      "Enter weight of item 4-\n",
      "22\n",
      "Enter profit of item 5-\n",
      "90\n",
      "Enter weight of item 5-\n",
      "25\n",
      "Enter capacity of knapsack-\n",
      "60\n",
      "Maximum value in knapsack:  230.0\n"
     ]
    }
   ],
   "source": [
    "class Item:\n",
    "    def __init__(self, profit, weight):\n",
    "        self.profit = profit\n",
    "        self.weight = weight\n",
    "\n",
    "def fractionalKnapsack(w, arr):\n",
    "    arr.sort(key=lambda x: x.profit/x.weight, reverse=True)\n",
    "    finalValue = 0.0\n",
    "    for item in arr:\n",
    "        if w >= item.weight:\n",
    "            finalValue += item.profit\n",
    "            w -= item.weight\n",
    "        else:\n",
    "            finalValue += item.profit * (w/item.weight)\n",
    "            break\n",
    "    return finalValue\n",
    "\n",
    "if __name__ == \"__main__\":\n",
    "    n = int(input(\"Enter number of items-\\n\"))\n",
    "    arr = []\n",
    "    for i in range(n):\n",
    "        profit = int(input(\"Enter profit of item \" + str(i + 1) + \"-\\n\"))\n",
    "        weight = int(input(\"Enter weight of item \" + str(i + 1) + \"-\\n\"))\n",
    "        arr.append(Item(profit, weight))\n",
    "    w = int(input(\"Enter capacity of knapsack-\\n\"))\n",
    "    print(\"Maximum value in knapsack: \", fractionalKnapsack(w, arr))"
   ]
  },
  {
   "cell_type": "code",
   "execution_count": null,
   "id": "9fd73438",
   "metadata": {},
   "outputs": [],
   "source": []
  }
 ],
 "metadata": {
  "kernelspec": {
   "display_name": "Python 3 (ipykernel)",
   "language": "python",
   "name": "python3"
  },
  "language_info": {
   "codemirror_mode": {
    "name": "ipython",
    "version": 3
   },
   "file_extension": ".py",
   "mimetype": "text/x-python",
   "name": "python",
   "nbconvert_exporter": "python",
   "pygments_lexer": "ipython3",
   "version": "3.11.5"
  }
 },
 "nbformat": 4,
 "nbformat_minor": 5
}
