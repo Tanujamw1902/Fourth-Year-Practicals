{
 "cells": [
  {
   "cell_type": "markdown",
   "id": "235bbd0a",
   "metadata": {},
   "source": [
    "Name:-Tanuja Maruti Waware\n",
    "B.E. Division:- C\n",
    "Batch:- C3\n",
    "Roll No.:- 14366"
   ]
  },
  {
   "cell_type": "markdown",
   "id": "9ccf8c1d",
   "metadata": {},
   "source": [
    "# Experiment No.:-1"
   ]
  },
  {
   "cell_type": "markdown",
   "id": "6bb69bfd",
   "metadata": {},
   "source": [
    "# Write a program non-recursive and recursive program to calculate Fibonacci numbers and analyze their time and space complexity."
   ]
  },
  {
   "cell_type": "markdown",
   "id": "69649d1e",
   "metadata": {},
   "source": [
    "1) Non - Recursive Program"
   ]
  },
  {
   "cell_type": "markdown",
   "id": "529b1bbb",
   "metadata": {},
   "source": [
    "Source Code:-"
   ]
  },
  {
   "cell_type": "code",
   "execution_count": 1,
   "id": "7df8f55d",
   "metadata": {},
   "outputs": [
    {
     "name": "stdout",
     "output_type": "stream",
     "text": [
      "How many terms? 7\n",
      "Fibonacci sequence:\n",
      "0\n",
      "1\n",
      "1\n",
      "2\n",
      "3\n",
      "5\n",
      "8\n"
     ]
    }
   ],
   "source": [
    "nterms = int(input(\"How many terms? \"))\n",
    "\n",
    "# first two terms\n",
    "n1, n2 = 0, 1\n",
    "count = 0\n",
    "\n",
    "# check if the number of terms is valid\n",
    "if nterms <= 0:\n",
    "   print(\"Please enter a positive integer\")\n",
    "# if there is only one term, return n1\n",
    "elif nterms == 1:\n",
    "   print(\"Fibonacci sequence upto\",nterms,\":\")\n",
    "   print(n1)\n",
    "# generate fibonacci sequence\n",
    "else:\n",
    "   print(\"Fibonacci sequence:\")\n",
    "   while count < nterms:\n",
    "       print(n1)\n",
    "       nth = n1 + n2\n",
    "       # update values\n",
    "       n1 = n2\n",
    "       n2 = nth\n",
    "       count += 1"
   ]
  },
  {
   "cell_type": "markdown",
   "id": "5ffc2f15",
   "metadata": {},
   "source": [
    "2. Recursive Program"
   ]
  },
  {
   "cell_type": "markdown",
   "id": "0247f09b",
   "metadata": {},
   "source": [
    "Source Code:-"
   ]
  },
  {
   "cell_type": "code",
   "execution_count": 2,
   "id": "ca232d37",
   "metadata": {},
   "outputs": [
    {
     "name": "stdout",
     "output_type": "stream",
     "text": [
      "How many terms? 7\n",
      "Fibonacci sequence:\n",
      "0\n",
      "1\n",
      "1\n",
      "2\n",
      "3\n",
      "5\n",
      "8\n"
     ]
    }
   ],
   "source": [
    "def fibonacci(n):\n",
    "    if n <= 0:\n",
    "        return []\n",
    "    elif n == 1:\n",
    "        return [0]\n",
    "    elif n == 2:\n",
    "        return [0, 1]\n",
    "    else:\n",
    "        seq = fibonacci(n - 1)\n",
    "        seq.append(seq[-1] + seq[-2])\n",
    "        return seq\n",
    "\n",
    "nterms = int(input(\"How many terms? \"))\n",
    "\n",
    "# check if the number of terms is valid\n",
    "if nterms <= 0:\n",
    "    print(\"Please enter a positive integer\")\n",
    "else:\n",
    "    print(\"Fibonacci sequence:\")\n",
    "    fib_sequence = fibonacci(nterms)\n",
    "    for num in fib_sequence:\n",
    "        print(num)"
   ]
  },
  {
   "cell_type": "code",
   "execution_count": null,
   "id": "ab8f6fb8",
   "metadata": {},
   "outputs": [],
   "source": []
  }
 ],
 "metadata": {
  "kernelspec": {
   "display_name": "Python 3 (ipykernel)",
   "language": "python",
   "name": "python3"
  },
  "language_info": {
   "codemirror_mode": {
    "name": "ipython",
    "version": 3
   },
   "file_extension": ".py",
   "mimetype": "text/x-python",
   "name": "python",
   "nbconvert_exporter": "python",
   "pygments_lexer": "ipython3",
   "version": "3.11.5"
  }
 },
 "nbformat": 4,
 "nbformat_minor": 5
}
