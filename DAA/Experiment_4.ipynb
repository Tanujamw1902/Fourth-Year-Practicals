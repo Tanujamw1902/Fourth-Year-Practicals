{
 "cells": [
  {
   "cell_type": "markdown",
   "id": "b61ac0c0",
   "metadata": {},
   "source": [
    "Name:-Tanuja Maruti Waware B.E. Division:- C Batch:- C3 Roll No.:- 14366"
   ]
  },
  {
   "cell_type": "markdown",
   "id": "1dc3a9c4",
   "metadata": {},
   "source": [
    " # Experiment No.:-4"
   ]
  },
  {
   "cell_type": "markdown",
   "id": "2372c74b",
   "metadata": {},
   "source": [
    "# Write a program to solve a 0-1 Knapsack problem using dynamic programming or branch and bound strategy."
   ]
  },
  {
   "cell_type": "markdown",
   "id": "b8cf691d",
   "metadata": {},
   "source": [
    "Source Code:-"
   ]
  },
  {
   "cell_type": "code",
   "execution_count": 1,
   "id": "1c7676e5",
   "metadata": {},
   "outputs": [
    {
     "name": "stdout",
     "output_type": "stream",
     "text": [
      "Enter the number of items: 4\n",
      "Enter the values of the items separated by space: 3 4 5 6\n",
      "Enter the weights of the items separated by space: 2 3 4 6\n",
      "Enter the maximum capacity of the knapsack: 5\n",
      "Maximum value: 7\n",
      "Selected items: [1, 0]\n"
     ]
    }
   ],
   "source": [
    "def knapsack_01(n, values, weights, W):\n",
    "    dp = [[0] * (W+1) for _ in range(n+1)]\n",
    "\n",
    "    for i in range(n+1):\n",
    "        for w in range(W+1):\n",
    "            if i == 0 or w == 0:\n",
    "                dp[i][w] = 0\n",
    "            elif weights[i-1] <= w:\n",
    "                dp[i][w] = max(dp[i-1][w], dp[i-1][w-weights[i-1]] + values[i-1])\n",
    "            else:\n",
    "                dp[i][w] = dp[i-1][w]\n",
    "    \n",
    "    selected_items = []\n",
    "    i, w = n, W\n",
    "    while i > 0 and w > 0:\n",
    "        if dp[i][w] != dp[i-1][w]:\n",
    "            selected_items.append(i-1)\n",
    "            w -= weights[i-1]\n",
    "        i -= 1\n",
    "    \n",
    "    return dp[n][W], selected_items\n",
    "\n",
    "# Take input from the user\n",
    "n = int(input(\"Enter the number of items: \"))\n",
    "values = list(map(int, input(\"Enter the values of the items separated by space: \").split()))\n",
    "weights = list(map(int, input(\"Enter the weights of the items separated by space: \").split()))\n",
    "W = int(input(\"Enter the maximum capacity of the knapsack: \"))\n",
    "\n",
    "max_value, selected_items = knapsack_01(n, values, weights, W)\n",
    "print(\"Maximum value:\", max_value)\n",
    "print(\"Selected items:\", selected_items)\n"
   ]
  },
  {
   "cell_type": "code",
   "execution_count": null,
   "id": "03d6081f",
   "metadata": {},
   "outputs": [],
   "source": []
  }
 ],
 "metadata": {
  "kernelspec": {
   "display_name": "Python 3 (ipykernel)",
   "language": "python",
   "name": "python3"
  },
  "language_info": {
   "codemirror_mode": {
    "name": "ipython",
    "version": 3
   },
   "file_extension": ".py",
   "mimetype": "text/x-python",
   "name": "python",
   "nbconvert_exporter": "python",
   "pygments_lexer": "ipython3",
   "version": "3.11.5"
  }
 },
 "nbformat": 4,
 "nbformat_minor": 5
}
